{
 "cells": [
  {
   "cell_type": "code",
   "execution_count": 2,
   "metadata": {},
   "outputs": [],
   "source": [
    "import netCDF4 as nc\n",
    "from netCDF4 import Dataset\n",
    "from datetime import datetime, timedelta\n",
    "import numpy as np\n",
    "import matplotlib.pyplot as plt\n",
    "import seawater as csr\n",
    "from matplotlib import cm"
   ]
  },
  {
   "cell_type": "code",
   "execution_count": 58,
   "metadata": {},
   "outputs": [],
   "source": [
    "import numpy.ma as ma"
   ]
  },
  {
   "cell_type": "code",
   "execution_count": 48,
   "metadata": {},
   "outputs": [],
   "source": [
    "# read in cresm input data\n",
    "path1=\"/localdata/xiaoxiaoyu/CRESM\"\n",
    "nc1=Dataset(path1+\"/copernicus_amazon_prep.nc\")\n",
    "# nc1.set_auto_mask(False)  # x.mask = ma.nomask\n",
    "lon_curv=nc1.variables['longitude'][:]\n",
    "lat_curv=nc1.variables['latitude'][:]\n",
    "z=nc1.variables['depth'][:]\n",
    "temp=nc1.variables['temperature']\n",
    "salt=nc1.variables['salinity'][:,:,:,:]"
   ]
  },
  {
   "cell_type": "code",
   "execution_count": 51,
   "metadata": {},
   "outputs": [
    {
     "data": {
      "text/plain": [
       "(8, 167, 337)"
      ]
     },
     "execution_count": 51,
     "metadata": {},
     "output_type": "execute_result"
    }
   ],
   "source": [
    "np.shape(mld_t)"
   ]
  },
  {
   "cell_type": "code",
   "execution_count": 4,
   "metadata": {},
   "outputs": [],
   "source": [
    "# # calculate the mld by temperature\n",
    "# # z 的正负 没有关系  \n",
    "# def mld_temp(temp, z):\n",
    "#     # default: 10m layer is in the ind=1 layer \n",
    "#     # ind_10m=np.where((z<-9)&(z>-11))[0][0]\n",
    "#     ind_10m=7\n",
    "#     for index, dep in enumerate(z[ind_10m::]):\n",
    "#         if temp[index+ind_10m]<temp[ind_10m]-0.2:\n",
    "#             return dep\n",
    "#             break\n",
    "# [ntime, rows, cols]=salt[:,0,:,:].shape  \n"
   ]
  },
  {
   "cell_type": "code",
   "execution_count": 42,
   "metadata": {},
   "outputs": [],
   "source": [
    "# mld_t=np.full_like(temp[:,0,:,:],None)\n",
    "# for t in range(ntime):\n",
    "#     for j in range(cols):\n",
    "#         for i in range(rows):\n",
    "#             mld_t[t,i,j]=mld_temp(temp[t,:,i,j],z)\n",
    "#             # depth should be negative, the result is also negative"
   ]
  },
  {
   "cell_type": "code",
   "execution_count": 43,
   "metadata": {},
   "outputs": [],
   "source": [
    "# mld_t2=mld_t\n",
    "# # mld_t[1,:,12]\n",
    "# # mld_t"
   ]
  },
  {
   "cell_type": "code",
   "execution_count": 44,
   "metadata": {},
   "outputs": [],
   "source": [
    "# ! rm \"/localdata/xiaoxiaoyu/CRESM/copernicus_amazon_mld.nc\"\n",
    "# fout=Dataset(path1+\"/copernicus_amazon_mld.nc\",\"w\",format='NETCDF4')\n",
    "# lat=fout.createDimension('lat',167)\n",
    "# lon=fout.createDimension('lon',337)\n",
    "# time=fout.createDimension('time',8)\n",
    "# fout.createVariable(\"mld_t\",\"f4\",(\"time\",\"lat\",\"lon\"))\n",
    "# fout.variables[\"mld_t\"][:,:,:]=mld_t2\n",
    "# fout.close()"
   ]
  },
  {
   "cell_type": "code",
   "execution_count": 45,
   "metadata": {},
   "outputs": [
    {
     "data": {
      "text/plain": [
       "(8, 167, 337)"
      ]
     },
     "execution_count": 45,
     "metadata": {},
     "output_type": "execute_result"
    }
   ],
   "source": [
    "# f_try=Dataset(path1+'/copernicus_amazon_mld.nc')\n",
    "# mld_t_try=f_try.variables[\"mld_t\"]\n",
    "# # np.shape(mld_t_try)\n",
    "# mld_t_try[:,132,12]"
   ]
  },
  {
   "cell_type": "code",
   "execution_count": 52,
   "metadata": {},
   "outputs": [],
   "source": [
    "def replace_salt(salt_1d,z,mld_t_1d):\n",
    "    depth_ind=np.where(z==mld_t_1d)[0][0]\n",
    "    salt0=salt_1d[depth_ind]\n",
    "    salt_1d[:depth_ind]=np.full_like(salt_1d[:depth_ind],salt0)\n",
    "    return salt_1d"
   ]
  },
  {
   "cell_type": "code",
   "execution_count": 53,
   "metadata": {},
   "outputs": [],
   "source": [
    "salt3=np.copy(salt)\n",
    "for t in range(ntime):\n",
    "    for j in range(25,cols-24):\n",
    "        for i in range(25,rows-24):\n",
    "            mld_t_1d=mld_t[t,i,j]\n",
    "            if mld_t_1d>=5:\n",
    "                salt_1d=np.copy(salt[t,:,i,j])\n",
    "                salt1=replace_salt(salt_1d,z,mld_t_1d)  # depth should be postive\n",
    "                salt3[t,:,i,j]=np.copy(salt1)\n"
   ]
  },
  {
   "cell_type": "code",
   "execution_count": 59,
   "metadata": {},
   "outputs": [
    {
     "data": {
      "text/plain": [
       "masked_array(data=[--, --, --, --, --, --, --, --, --, --, --, --, --, --,\n",
       "                   --, --, --, --, --, --, --, --, --, --, --, --, --, --,\n",
       "                   --, --, --, --, --, --, --, --, --, --, --, --, --, --,\n",
       "                   --, --, --, --, --, --, --, --, --, --, --, --, --, --,\n",
       "                   --, --, --, --, --, --, --, --, --, --, --, --, --, --,\n",
       "                   --, --, --, --, --, --, --, --, --, --, --, --, --, --,\n",
       "                   --, --, --, --, --, --, --, --, --, --, --, --, --, --,\n",
       "                   --, --, --, --, --, --, --, --, --, --, --, --, --, --,\n",
       "                   --, --, --, --, --, --, --, --, --, --, --,\n",
       "                   34.82467269897461, 34.82467269897461, --, --, --, --,\n",
       "                   --, --, --, --, --, --, --, --, --, --, --, --, --, --,\n",
       "                   --, --, --, --, 34.83535385131836, 34.83535385131836,\n",
       "                   34.83840560913086, 34.84145736694336,\n",
       "                   34.84450912475586, 34.84756088256836,\n",
       "                   34.84450912475586, 34.83535385131836,\n",
       "                   34.82314682006836, 34.82009506225586,\n",
       "                   34.81551742553711, 34.81704330444336,\n",
       "                   34.81856918334961, 34.81704330444336,\n",
       "                   34.812461853027344, 34.809410095214844,\n",
       "                   34.806358337402344, 34.804832458496094,\n",
       "                   34.803306579589844, 34.800254821777344],\n",
       "             mask=[ True,  True,  True,  True,  True,  True,  True,  True,\n",
       "                    True,  True,  True,  True,  True,  True,  True,  True,\n",
       "                    True,  True,  True,  True,  True,  True,  True,  True,\n",
       "                    True,  True,  True,  True,  True,  True,  True,  True,\n",
       "                    True,  True,  True,  True,  True,  True,  True,  True,\n",
       "                    True,  True,  True,  True,  True,  True,  True,  True,\n",
       "                    True,  True,  True,  True,  True,  True,  True,  True,\n",
       "                    True,  True,  True,  True,  True,  True,  True,  True,\n",
       "                    True,  True,  True,  True,  True,  True,  True,  True,\n",
       "                    True,  True,  True,  True,  True,  True,  True,  True,\n",
       "                    True,  True,  True,  True,  True,  True,  True,  True,\n",
       "                    True,  True,  True,  True,  True,  True,  True,  True,\n",
       "                    True,  True,  True,  True,  True,  True,  True,  True,\n",
       "                    True,  True,  True,  True,  True,  True,  True,  True,\n",
       "                    True,  True,  True,  True,  True,  True,  True,  True,\n",
       "                    True,  True,  True, False, False,  True,  True,  True,\n",
       "                    True,  True,  True,  True,  True,  True,  True,  True,\n",
       "                    True,  True,  True,  True,  True,  True,  True,  True,\n",
       "                    True,  True,  True, False, False, False, False, False,\n",
       "                   False, False, False, False, False, False, False, False,\n",
       "                   False, False, False, False, False, False, False],\n",
       "       fill_value=1e+20,\n",
       "            dtype=float32)"
      ]
     },
     "execution_count": 59,
     "metadata": {},
     "output_type": "execute_result"
    }
   ],
   "source": [
    "salt4=np.copy(salt3)\n",
    "salt5=ma.masked_where(salt4==-32767., salt4)\n",
    "# salt5[2,-1,:,120]\n",
    "# # salt3[2,:,129,120]"
   ]
  },
  {
   "cell_type": "code",
   "execution_count": 67,
   "metadata": {},
   "outputs": [],
   "source": [
    "!rm \"/localdata/xiaoxiaoyu/CRESM/copernicus_amazon_prep_2.nc\"\n",
    "!cp \"/localdata/xiaoxiaoyu/CRESM/copernicus_amazon_prep.nc\" \"/localdata/xiaoxiaoyu/CRESM/copernicus_amazon_prep_2.nc\"\n",
    "\n",
    "nc2=Dataset(path1+\"/copernicus_amazon_prep_2.nc\",\"r+\")\n",
    "nc2.variables['salinity'][:,:,:,:]=salt5\n",
    "nc2.close()"
   ]
  },
  {
   "cell_type": "code",
   "execution_count": 68,
   "metadata": {},
   "outputs": [],
   "source": [
    "rm ./copernicus_amazon_prep.nc"
   ]
  },
  {
   "cell_type": "code",
   "execution_count": 3,
   "metadata": {},
   "outputs": [
    {
     "ename": "NameError",
     "evalue": "name 'path1' is not defined",
     "output_type": "error",
     "traceback": [
      "\u001b[0;31m---------------------------------------------------------------------------\u001b[0m",
      "\u001b[0;31mNameError\u001b[0m                                 Traceback (most recent call last)",
      "\u001b[0;32m<ipython-input-3-5e8ece85fd4b>\u001b[0m in \u001b[0;36m<module>\u001b[0;34m()\u001b[0m\n\u001b[0;32m----> 1\u001b[0;31m \u001b[0mnc3\u001b[0m\u001b[0;34m=\u001b[0m\u001b[0mDataset\u001b[0m\u001b[0;34m(\u001b[0m\u001b[0mpath1\u001b[0m\u001b[0;34m+\u001b[0m\u001b[0;34m\"/copernicus_amazon_prep_2.nc\"\u001b[0m\u001b[0;34m)\u001b[0m\u001b[0;34m\u001b[0m\u001b[0m\n\u001b[0m\u001b[1;32m      2\u001b[0m \u001b[0msalt3\u001b[0m\u001b[0;34m=\u001b[0m\u001b[0mnc3\u001b[0m\u001b[0;34m.\u001b[0m\u001b[0mvariables\u001b[0m\u001b[0;34m[\u001b[0m\u001b[0;34m'salinity'\u001b[0m\u001b[0;34m]\u001b[0m\u001b[0;34m\u001b[0m\u001b[0m\n\u001b[1;32m      3\u001b[0m \u001b[0mtemp3\u001b[0m\u001b[0;34m=\u001b[0m\u001b[0mnc3\u001b[0m\u001b[0;34m.\u001b[0m\u001b[0mvariables\u001b[0m\u001b[0;34m[\u001b[0m\u001b[0;34m'temperature'\u001b[0m\u001b[0;34m]\u001b[0m\u001b[0;34m\u001b[0m\u001b[0m\n\u001b[1;32m      4\u001b[0m \u001b[0mprint\u001b[0m\u001b[0;34m(\u001b[0m\u001b[0msalt3\u001b[0m\u001b[0;34m[\u001b[0m\u001b[0;36m2\u001b[0m\u001b[0;34m,\u001b[0m\u001b[0;34m-\u001b[0m\u001b[0;36m1\u001b[0m\u001b[0;34m,\u001b[0m\u001b[0;34m:\u001b[0m\u001b[0;34m,\u001b[0m\u001b[0;36m120\u001b[0m\u001b[0;34m]\u001b[0m\u001b[0;34m)\u001b[0m\u001b[0;34m\u001b[0m\u001b[0m\n",
      "\u001b[0;31mNameError\u001b[0m: name 'path1' is not defined"
     ]
    }
   ],
   "source": [
    "nc3=Dataset(path1+\"/copernicus_amazon_prep_2.nc\")\n",
    "salt3=nc3.variables['salinity']\n",
    "temp3=nc3.variables['temperature']\n",
    "print(salt3[2,-1,:,120])"
   ]
  },
  {
   "cell_type": "code",
   "execution_count": null,
   "metadata": {},
   "outputs": [],
   "source": []
  },
  {
   "cell_type": "code",
   "execution_count": null,
   "metadata": {},
   "outputs": [],
   "source": [
    "\n",
    "temp[2,:,120,120]\n",
    "\n",
    "# np.shape(salt6[2,:,120,120])\n"
   ]
  },
  {
   "cell_type": "code",
   "execution_count": null,
   "metadata": {},
   "outputs": [],
   "source": [
    "# saltd=salt4[0,0,:,:]-salt[0,0,:,:]\n",
    "saltd=salt4[0,0,:,:]\n",
    "fig = plt.figure(figsize=(14,6))\n",
    "ax = fig.add_subplot(1, 1, 1)\n",
    "# p = ax.contourf(lon_curv, lat_curv, saltd, 20, vmin=0, vmax=2, cmap=plt.cm.get_cmap('Blues', 20))  #cm.nipy_spectral,bwr, RdBu_r , vmin=-2, vmax=2\n",
    "p = ax.contourf(lon_curv, lat_curv, saltd, 20, vmin=10, vmax=50, cmap=plt.cm.get_cmap('Blues', 20))  #cm.nipy_spectral,bwr, RdBu_r , vmin=-\n",
    "m = plt.cm.ScalarMappable(cmap=plt.cm.get_cmap('Blues', 20))\n",
    "m.set_array(saltd)\n",
    "m.set_clim(0,2)\n",
    "plt.colorbar(m, boundaries=np.arange(0,2,0.1)) \n",
    "xh=[-41.3,-44.5,-47.9,-51.5,-55.14,-58.94,-62.1,-65.19,-67.81,-70.98,-74.3,-78.31,-82.30,-86.10]\n",
    "yh=[12.16,12.6,13.0,13.58,14.19,14.54,14.98,15.160,15.509,15.77,16.38,16.81,17.76,20.41]\n",
    "vmax=[31.64,36.24,32.28,43.36,42.87,41.48,40.31,46.14,54.13,64.34,61.70,66.18,66.05,50.95]\n",
    "s = vmax*5\n",
    "plt.scatter(xh, yh, s, c=\"yellow\", marker='^',label=\"Dean track\")\n",
    "ax.set_title('Salinity change ')"
   ]
  },
  {
   "cell_type": "code",
   "execution_count": null,
   "metadata": {},
   "outputs": [],
   "source": [
    "# http://www.ifremer.fr/cerweb/deboyer/mld/Surface_Mixed_Layer_Depth.php \n",
    "# calculate density mld\n",
    "#  计算位势密度\n",
    "#  输入的z 是 正数\n",
    "def mld_density(temp,salt,z):\n",
    "    # temp, salt is 1d, only has the depth\n",
    "    # default: 10m layer is in the ind=1 layer \n",
    "    density_profiles = csr.dens(salt, temp, 0)  #the origianl density\n",
    "    ind_10m=7\n",
    "    # calculate the critical density \n",
    "    #ind_10m=np.where((z<-9)&(z>-11))[0][0]\n",
    "    \n",
    "    delta_density=csr.dens(salt[ind_10m], temp[ind_10m]-0.2, 0)-csr.dens(salt[ind_10m], temp[ind_10m], 0)\n",
    "#     print(delta_density)\n",
    "    density_zero=density_profiles[ind_10m]+delta_density\n",
    "    \n",
    "#     rou0=min(density_profiles[ind_10m::], key=lambda x:abs(x-density_zero))\n",
    "    rou0=density_profiles[np.where(density_profiles-density_zero>=0)][0]\n",
    "    ind=np.argwhere(density_profiles==rou0)\n",
    "    if ind.size==0:\n",
    "        return None\n",
    "    else:\n",
    "        return z[ind][0][0]"
   ]
  },
  {
   "cell_type": "code",
   "execution_count": null,
   "metadata": {},
   "outputs": [],
   "source": [
    "mld_r=np.full_like(temp[0,:,:],None)\n",
    "for j in range(cols-1):\n",
    "    for i in range(rows-1):\n",
    "        mld_r[i,j]=mld_density(temp[:,i,j],salt[:,i,j],z)  "
   ]
  },
  {
   "cell_type": "code",
   "execution_count": null,
   "metadata": {},
   "outputs": [],
   "source": [
    "mld_r2=np.copy(mld_r)\n",
    "for j in range(25,cols-24):\n",
    "    for i in range(25,rows-24):\n",
    "        mld_r2[i,j]=mld_density(temp[:,i,j],salt3[:,i,j],z)"
   ]
  },
  {
   "cell_type": "code",
   "execution_count": null,
   "metadata": {},
   "outputs": [],
   "source": [
    "# 画改过之后的图\n",
    "# 先计算改过之后的density, 检查是不是有 reverse\n",
    "density=np.full_like(temp,None)\n",
    "for j in range(0,cols):\n",
    "    for i in range(0,rows):\n",
    "        density[:,i,j] = csr.dens(salt[:,i,j] , temp[:,i,j] , z)   # depth should be postive"
   ]
  },
  {
   "cell_type": "code",
   "execution_count": null,
   "metadata": {},
   "outputs": [],
   "source": [
    "density2=np.copy(density,None)\n",
    "for j in range(25,cols-24):\n",
    "    for i in range(25,rows-24):\n",
    "        density2[:,i,j] = csr.dens(salt3[:,i,j] , temp[:,i,j] , z)   # depth should be postive"
   ]
  },
  {
   "cell_type": "code",
   "execution_count": null,
   "metadata": {},
   "outputs": [],
   "source": [
    "# 分析一下这一点的情况\n",
    "lat0_bad=lat0_max_ind\n",
    "lon0_bad=140\n",
    "lat_c=lat_curv[lat0_bad]\n",
    "lon_c=lon_curv[lon0_bad]\n",
    "depth=z[0:N]*-1\n",
    "N=28\n",
    "dens0_bad=density[0:N,lat0_bad,lon0_bad]\n",
    "salt0_bad=salt[0:N,lat0_bad,lon0_bad]\n",
    "temp0_bad=temp[0:N,lat0_bad,lon0_bad]\n",
    "ild1=int(mld_r[lat0_bad,lon0_bad])\n",
    "mld1=int(mld_t[lat0_bad,lon0_bad])\n",
    "\n",
    "\n",
    "ax1 = fig.add_subplot(1, 2, 1)\n",
    "point_str=str(lat_c)+\"N,  \"+str(lon_c)+\"W,   BEFORE\"\n",
    "ax1=plot_profile_blt_oneline(temp0_bad,salt0_bad,depth,point_str,ild1,mld1)\n",
    "\n",
    "dens0_bad=density2[0:N,lat0_bad,lon0_bad]\n",
    "salt0_bad=salt3[0:N,lat0_bad,lon0_bad]\n",
    "temp0_bad=temp[0:N,lat0_bad,lon0_bad]\n",
    "ild1=int(mld_r2[lat0_bad,lon0_bad])\n",
    "mld1=int(mld_t[lat0_bad,lon0_bad])\n",
    "ax2 = fig.add_subplot(1, 2, 2)\n",
    "ax2=point_str=str(lat_c)+\"N,  \"+str(lon_c)+\"W,   AFTER\"\n",
    "ax2=plot_profile_blt_oneline(temp0_bad,salt0_bad,depth,point_str,ild1,mld1)"
   ]
  },
  {
   "cell_type": "code",
   "execution_count": null,
   "metadata": {},
   "outputs": [],
   "source": [
    "density_temp_2=ma.masked_where(density2 == 9999., density2)"
   ]
  },
  {
   "cell_type": "code",
   "execution_count": null,
   "metadata": {},
   "outputs": [],
   "source": [
    "# 画一个density变化的图\n",
    "\n",
    "N=28\n",
    "depth=z[0:N]\n",
    "date=lon_curv\n",
    "mld_t_temp=mld_t[lat0_max_ind,:]\n",
    "\n",
    "fig = plt.figure(figsize=(14,10))\n",
    "ax2 = fig.add_subplot(2, 1, 1)\n",
    "Xi, Yi = np.meshgrid(date, depth)\n",
    "ax2.plot(date, mld_t_temp, linewidth=2, color='k')\n",
    "cntr1=ax2.pcolormesh(Xi, Yi, density[0:N,lat0_max_ind,:], vmin=1022, vmax=1027, cmap=plt.cm.get_cmap('Blues', 20))\n",
    "cb = fig.colorbar(cntr1) \n",
    "ax2.set_ylim(ax2.get_ylim()[::-1])\n",
    "ax2.set_title('salinity '+str(lat_curv[lat0_max_ind])+'°N before change')\n",
    "\n",
    "ax3 = fig.add_subplot(2, 1, 2)\n",
    "cntr3=ax3.pcolormesh(Xi, Yi, density_temp_2[0:N,lat0_max_ind,:], vmin=1022, vmax=1027, cmap=plt.cm.get_cmap('Blues', 20))\n",
    "cb = fig.colorbar(cntr3) \n",
    "ax3.set_ylim(ax3.get_ylim()[::-1])\n",
    "ax3.set_title('salinity after change')"
   ]
  },
  {
   "cell_type": "code",
   "execution_count": null,
   "metadata": {},
   "outputs": [],
   "source": [
    "np.where(den_re==None)"
   ]
  },
  {
   "cell_type": "code",
   "execution_count": null,
   "metadata": {},
   "outputs": [],
   "source": [
    "fig = plt.figure(figsize=(14,6))\n",
    "ax = fig.add_subplot(1, 1, 1)\n",
    "p = ax.contourf(lon_curv, lat_curv, den_re, 2, vmin=0, vmax=1, cmap=cm.bwr)  #cm.nipy_spectral,bwr, RdBu_r , vmin=-2, vmax=2\n",
    "m = plt.cm.ScalarMappable(cmap=cm.bwr)\n",
    "m.set_array(mld_r)\n",
    "m.set_clim(0,1)\n",
    "plt.colorbar(m)  #\n",
    "xh=[-41.3,-44.5,-47.9,-51.5,-55.14,-58.94,-62.1,-65.19,-67.81,-70.98,-74.3,-78.31,-82.30]\n",
    "yh=[12.16,12.6,13.0,13.58,14.19,14.54,14.98,15.160,15.509,15.77,16.38,16.81,17.76]\n",
    "vmax=[31.64,36.24,32.28,43.36,42.87,41.48,40.31,46.14,54.13,64.34,61.70,66.18,66.05]\n",
    "s = vmax*5\n",
    "plt.scatter(xh, yh, s, c=\"yellow\", marker='^',label=\"Dean track\")\n",
    "# ax.plot(date, mld_t_temp, linewidth=2, color='k')\n",
    "ax.set_title('Density reversion after change the salinity')"
   ]
  },
  {
   "cell_type": "code",
   "execution_count": null,
   "metadata": {},
   "outputs": [],
   "source": [
    "# 检查是不是每一个点 都是 density 向下增加的\n",
    "\n",
    "den_re=np.full_like(mld_r,None)\n",
    "for j in range(0,cols):\n",
    "    for i in range(0,rows):\n",
    "        l=den0[:,i,j]\n",
    "        if not all(x<=y for x, y in zip(l, l[1:]))==True:\n",
    "#             print(all(x<y for x, y in zip(l, l[1:])))\n",
    "            den_re[i,j]=1\n",
    "# np.where(den_re==1)\n",
    "# np.shape(np.where(den_re==1))\n",
    "# np.shape(den_re)   "
   ]
  },
  {
   "cell_type": "code",
   "execution_count": null,
   "metadata": {},
   "outputs": [],
   "source": [
    "den0=density2\n",
    "\n",
    "l=density2[:,78,lon0_max_ind]\n",
    "density2[np.where(density2==999.842594)]=9999.0\n",
    "# ma.is_masked(l)\n",
    "# import numpy.ma as ma\n",
    "# ma.set_fill_value(l, -999)\n",
    "#\n",
    "# l=l.filled(9999)\n",
    "all(x<=y for x, y in zip(l, l[1:]))\n",
    "# density2\n",
    "l"
   ]
  },
  {
   "cell_type": "code",
   "execution_count": null,
   "metadata": {},
   "outputs": [],
   "source": [
    "# 找原因，为什么改完salt之后，density mld 还是那么浅\n",
    "lat0_max_ind=75\n",
    "lon0_max_ind=136\n",
    "salt1d_2=salt3[:,lat0_max_ind,lon0_max_ind]\n",
    "temp1d_2=temp[:,lat0_max_ind,lon0_max_ind]\n",
    "den1d_2=csr.dens(salt1d_2, temp1d_2, 0)\n",
    "# print(den1d_2)\n",
    "ind_10m=7    \n",
    "delta_density=csr.dens(salt1d_2[ind_10m], temp1d_2[ind_10m]-0.2, 0)-csr.dens(salt1d_2[ind_10m], temp1d_2[ind_10m], 0)\n",
    "print(\"delta_density \",delta_density)\n",
    "density_zero=den1d_2[ind_10m]+delta_density\n",
    "print(\"density_zero \",density_zero)"
   ]
  },
  {
   "cell_type": "code",
   "execution_count": null,
   "metadata": {},
   "outputs": [],
   "source": [
    "# rou0=min(den1d_2[ind_10m::], key=lambda x:x-density_zero)  #这个有问题啊！！！ 不要包涵那个点\n",
    "den1d_2=csr.dens(salt1d_2, temp1d_2, 0)\n",
    "rou0=den1d_2[np.where(den1d_2-density_zero>=0)][0]\n",
    "print(\"rou0 \",rou0)\n",
    "ind=np.argwhere(den1d_2==rou0)    #ind_10m::\n",
    "print(\"ind\",ind)\n",
    "print(\"mld_r2 \",z[ind][0][0])\n",
    "# print(den1d)\n",
    "print(den1d_2)\n",
    "\n",
    "print(\"mld_r2 \",mld_r2[lat0_max_ind,lon0_max_ind])\n",
    "print(\"mld_t \",mld_t[lat0_max_ind,lon0_max_ind])\n",
    "print(\"blt2 \",blt2[lat0_max_ind,lon0_max_ind])\n"
   ]
  },
  {
   "cell_type": "code",
   "execution_count": null,
   "metadata": {},
   "outputs": [],
   "source": [
    "# find the crazy point of BLT2 and plot the xy plot\n",
    "\n",
    "lat0_max_ind=13  #7.75N\n",
    "lon_pick=np.where(blt2[lat0_max_ind,:]>=20)\n",
    "print(lon_pick)\n",
    "print(blt2[lat0_max_ind,271])"
   ]
  },
  {
   "cell_type": "code",
   "execution_count": null,
   "metadata": {},
   "outputs": [],
   "source": [
    "# lat0_max_ind=110  #15.5N\n",
    "lat0_max_ind=75  #7.75N\n",
    "print(lat_curv[lat0_max_ind])\n",
    "lon0_max_ind=136   #51.5\n",
    "# lon0_max_ind=220\n",
    "print(blt2[lat0_max_ind,lon0_max_ind])\n",
    "print(lon_curv[lon0_max_ind])"
   ]
  },
  {
   "cell_type": "code",
   "execution_count": null,
   "metadata": {},
   "outputs": [],
   "source": [
    "def plot_profile_blt_oneline(temp1,salt1,depth,point_str,ild1,mld1):\n",
    "    # use temp and salt to calulate density, then use depth to calculate BLT, ILD, MLD\n",
    "    #  plot the ILD, MLD lines\n",
    "    #  add the salinity \n",
    "    #  point_str,date are string \n",
    "\n",
    "    t=depth\n",
    "    ild1=ild1*-1\n",
    "    mld1=mld1*-1\n",
    "    dens1 = csr.dens(salt1, temp1, -1*t)   # use this function to calulate density  \n",
    "    \n",
    "    from mpl_toolkits.axes_grid1 import host_subplot\n",
    "    import mpl_toolkits.axisartist as AA\n",
    "\n",
    "    fig = plt.figure(1, (6, 8))\n",
    "    ax1 = host_subplot(111, axes_class=AA.Axes)\n",
    "    color = 'tab:red'\n",
    "    ax1.set_xlabel('Temp (.C)', color=color)\n",
    "    ax1.set_ylabel(point_str, color='black')\n",
    "    ax1.plot(temp1, t, color=color,label=\"before ILD\")       \n",
    "    ax1.tick_params(axis='x', labelcolor=color)\n",
    "    ax1.grid(True, linestyle='-.',lw=0.4)\n",
    "\n",
    "    tempmin=21\n",
    "    tempmax=30\n",
    "    ax1.set_xlim(tempmin, tempmax)\n",
    "    ax1.plot([tempmin, tempmax], [mld1, mld1], linestyle ='-',lw=1, color=color)\n",
    "    ax1.text(tempmax, mld1, ' MLD'+str(mld1), fontsize=10, color=color)\n",
    "   \n",
    "    ax2 = ax1.twiny()  # instantiate a second axes that shares the same x-axis\n",
    "    color = 'black'\n",
    "    ax2.plot(dens1,t, color=color,label=\"before MLD\")\n",
    "    densmin=1021\n",
    "    densmax=1026.5\n",
    "    ax2.set_xlim(densmin, densmax)\n",
    "    ax2.plot([densmin, densmax], [ild1, ild1], linestyle ='--',lw=1, color=color)\n",
    "    ax2.text(densmax, ild1,' ILD'+str(ild1), fontsize=10, color=color)\n",
    "      #设置坐标轴摆放位置和距离\n",
    "    offset = 0\n",
    "    new_fixed_axis = ax2.get_grid_helper().new_fixed_axis\n",
    "    ax2.axis[\"top\"] = new_fixed_axis(loc=\"top\",axes=ax2,offset=( 0,offset))\n",
    "    ax2.axis[\"top\"].toggle(all=True)\n",
    "    ax2.set_xlabel('Density (kg/m3)', color=color)  # we already handled the x-label with ax1\n",
    "    ax2.tick_params(axis='x', labelcolor=color)\n",
    "    \n",
    "\n",
    "    ax3 = ax1.twiny()  # instantiate a second axes that shares the same x-axis\n",
    "    color = 'tab:blue'\n",
    "    ax3.plot(salt1,t, color=color,label=\"salinity\")\n",
    "\n",
    "    saltmin= 34\n",
    "    saltmax= 36.5\n",
    "    ax3.set_xlim(saltmin, saltmax)\n",
    "    \n",
    "    #设置坐标轴摆放位置和距离\n",
    "    offset = 40\n",
    "    new_fixed_axis = ax3.get_grid_helper().new_fixed_axis\n",
    "    ax3.axis[\"top\"] = new_fixed_axis(loc=\"top\",axes=ax3,offset=( 0,offset))\n",
    "    ax3.axis[\"top\"].toggle(all=True)\n",
    "    ax3.set_xlabel('Salinity (psu)', color=color)\n",
    "    ax3.tick_params(axis='top', labelcolor=color)\n",
    "    \n",
    "\n",
    "#     fig.tight_layout()\n",
    "    return plt.show()"
   ]
  },
  {
   "cell_type": "code",
   "execution_count": null,
   "metadata": {},
   "outputs": [],
   "source": []
  },
  {
   "cell_type": "code",
   "execution_count": null,
   "metadata": {},
   "outputs": [],
   "source": [
    "# create a color bar myself\n",
    "colors = [(247,247,247), (209,229,240), (146,197,222),(67,147,195),(33,102,172)]  # white--blue\n",
    "n_bins = [3, 6, 10, 100]  # Discretizes the interpolation into bins\n",
    "cmap_name = 'my_list'\n",
    "cm = LinearSegmentedColormap.from_list(cmap_name, colors, N=n_bin)\n"
   ]
  },
  {
   "cell_type": "code",
   "execution_count": null,
   "metadata": {},
   "outputs": [],
   "source": [
    "blt=mld_t-mld_r\n",
    "blt2=mld_t-mld_r2\n",
    "fig = plt.figure(figsize=(14,10))\n",
    "ax = fig.add_subplot(2, 1, 1)\n",
    "p = ax.contourf(lon_curv, lat_curv, blt, 20, vmin=10, vmax=50, cmap=plt.cm.get_cmap('Blues', 20))  #cm.nipy_spectral,bwr, RdBu_r , vmin=-2, vmax=2\n",
    "# plt.colorbar(p, ax=ax)  #\n",
    "m = plt.cm.ScalarMappable(cmap=plt.cm.get_cmap('Blues', 20))\n",
    "m.set_array(blt)\n",
    "m.set_clim(10,50)\n",
    "plt.colorbar(m, boundaries=np.arange(10,55,5))  #\n",
    "\n",
    "xh=[-41.3,-44.5,-47.9,-51.5,-55.14,-58.94,-62.1,-65.19,-67.81,-70.98,-74.3,-78.31,-82.30]\n",
    "yh=[12.16,12.6,13.0,13.58,14.19,14.54,14.98,15.160,15.509,15.77,16.38,16.81,17.76]\n",
    "vmax=[31.64,36.24,32.28,43.36,42.87,41.48,40.31,46.14,54.13,64.34,61.70,66.18,66.05]\n",
    "s = vmax*5\n",
    "plt.scatter(xh, yh, s, c=\"yellow\", marker='^',label=\"Dean track\")\n",
    "\n",
    "lat = [8, 16] \n",
    "lon = [-64, -52] \n",
    "x=[-86, -5]\n",
    "y=[lat[0],lat[0]]\n",
    "plt.plot(x, y, '-', linewidth=2, color='k') \n",
    "y=[lat[1],lat[1]]\n",
    "plt.plot(x, y, '-', linewidth=2, color='k') \n",
    "x=[lon[0],lon[0]]\n",
    "y=[-12,26]\n",
    "plt.plot(x, y, '-', linewidth=2, color='k') \n",
    "x=[lon[1],lon[1]]\n",
    "plt.plot(x, y, '-', linewidth=2, color='k') \n",
    "\n",
    "ax.set_title('CRESM blt before change')\n",
    "\n",
    "ax1 = fig.add_subplot(2, 1, 2)\n",
    "p = ax1.contourf(lon_curv, lat_curv, blt2, 20, vmin=10, vmax=50, cmap=plt.cm.get_cmap('Blues', 20))  #cm.nipy_spectral,bwr, RdBu_r , vmin=-2, vmax=2\n",
    "m.set_array(blt2)\n",
    "m.set_clim(10,50)\n",
    "plt.colorbar(m, boundaries=np.arange(10,55,5)) \n",
    "plt.scatter(xh, yh, s, c=\"yellow\", marker='^',label=\"Dean track\")\n",
    "ax1.set_title('CRESM blt after change')\n",
    "lat = [8, 16] \n",
    "lon = [-64, -52] \n",
    "x=[-86, -5]\n",
    "y=[lat[0],lat[0]]\n",
    "plt.plot(x, y, '-', linewidth=2, color='k') \n",
    "y=[lat[1],lat[1]]\n",
    "plt.plot(x, y, '-', linewidth=2, color='k') \n",
    "x=[lon[0],lon[0]]\n",
    "y=[-12,26]\n",
    "plt.plot(x, y, '-', linewidth=2, color='k') \n",
    "x=[lon[1],lon[1]]\n",
    "plt.plot(x, y, '-', linewidth=2, color='k') "
   ]
  },
  {
   "cell_type": "code",
   "execution_count": null,
   "metadata": {},
   "outputs": [],
   "source": [
    "fig = plt.figure(figsize=(14,6))\n",
    "ax = fig.add_subplot(1, 1, 1)\n",
    "p = ax.contourf(lon_curv, lat_curv, mld_r, 20, vmin=0, vmax=100, cmap=cm.bwr)  #cm.nipy_spectral,bwr, RdBu_r , vmin=-2, vmax=2\n",
    "m = plt.cm.ScalarMappable(cmap=cm.bwr)\n",
    "m.set_array(mld_r)\n",
    "m.set_clim(0,100)\n",
    "plt.colorbar(m, boundaries=np.arange(0,100,5))  #\n",
    "xh=[-41.3,-44.5,-47.9,-51.5,-55.14,-58.94,-62.1,-65.19,-67.81,-70.98,-74.3,-78.31,-82.30,-86.10]\n",
    "yh=[12.16,12.6,13.0,13.58,14.19,14.54,14.98,15.160,15.509,15.77,16.38,16.81,17.76,20.41]\n",
    "vmax=[31.64,36.24,32.28,43.36,42.87,41.48,40.31,46.14,54.13,64.34,61.70,66.18,66.05,50.95]\n",
    "s = vmax*5\n",
    "plt.scatter(xh, yh, s, c=\"yellow\", marker='^',label=\"Dean track\")\n",
    "ax.set_title('CRESM density mld on Day 14th')"
   ]
  },
  {
   "cell_type": "code",
   "execution_count": null,
   "metadata": {},
   "outputs": [],
   "source": [
    "# 画图\n",
    "\n",
    "\n",
    "\n",
    "N=28\n",
    "depth=z[0:N]\n",
    "date=lon_curv\n",
    "mld_t_temp=mld_t[lat0_max_ind,:]\n",
    "\n",
    "fig = plt.figure(figsize=(14,10))\n",
    "ax2 = fig.add_subplot(2, 1, 1)\n",
    "Xi, Yi = np.meshgrid(date, depth)\n",
    "ax2.plot(date, mld_t_temp, linewidth=2, color='k')\n",
    "cntr1=ax2.pcolormesh(Xi, Yi, salt[0:N,lat0_max_ind,:], vmin=34.5, vmax=36.5, cmap=\"RdBu_r\")\n",
    "cb = fig.colorbar(cntr1) \n",
    "ax2.set_ylim(ax2.get_ylim()[::-1])\n",
    "ax2.set_title('salinity '+str(lat_curv[lat0_max_ind])+'°N before change')\n",
    "\n",
    "ax3 = fig.add_subplot(2, 1, 2)\n",
    "cntr3=ax3.pcolormesh(Xi, Yi, salt3[0:N,lat0_max_ind,:], vmin=34.5, vmax=36.5, cmap=\"RdBu_r\")\n",
    "cb = fig.colorbar(cntr3) \n",
    "ax3.set_ylim(ax3.get_ylim()[::-1])\n",
    "ax3.set_title('salinity after change')"
   ]
  },
  {
   "cell_type": "code",
   "execution_count": null,
   "metadata": {},
   "outputs": [],
   "source": [
    "# step 2: change all the BLT in the domain? \n",
    "# for each point, if the blt > 10m, then, replace the salt with salt0 (salt at mld_t)\n",
    "# At the same time, \n"
   ]
  },
  {
   "cell_type": "code",
   "execution_count": null,
   "metadata": {},
   "outputs": [],
   "source": [
    "saltd=salt3[0,:,:]-salt[0,:,:]\n",
    "fig = plt.figure(figsize=(14,6))\n",
    "ax = fig.add_subplot(1, 1, 1)\n",
    "p = ax.contourf(lon_curv, lat_curv, saltd, 20, vmin=0, vmax=2, cmap=cm.bwr)  #cm.nipy_spectral,bwr, RdBu_r , vmin=-2, vmax=2\n",
    "m = plt.cm.ScalarMappable(cmap=cm.bwr)\n",
    "m.set_array(saltd)\n",
    "m.set_clim(0,2)\n",
    "plt.colorbar(m, boundaries=np.arange(0,2,0.1)) \n",
    "xh=[-41.3,-44.5,-47.9,-51.5,-55.14,-58.94,-62.1,-65.19,-67.81,-70.98,-74.3,-78.31,-82.30,-86.10]\n",
    "yh=[12.16,12.6,13.0,13.58,14.19,14.54,14.98,15.160,15.509,15.77,16.38,16.81,17.76,20.41]\n",
    "vmax=[31.64,36.24,32.28,43.36,42.87,41.48,40.31,46.14,54.13,64.34,61.70,66.18,66.05,50.95]\n",
    "s = vmax*5\n",
    "plt.scatter(xh, yh, s, c=\"yellow\", marker='^',label=\"Dean track\")\n",
    "ax.set_title('CRESM density mld on Day 14th')"
   ]
  }
 ],
 "metadata": {
  "kernelspec": {
   "display_name": "Python 3",
   "language": "python",
   "name": "python3"
  },
  "language_info": {
   "codemirror_mode": {
    "name": "ipython",
    "version": 3
   },
   "file_extension": ".py",
   "mimetype": "text/x-python",
   "name": "python",
   "nbconvert_exporter": "python",
   "pygments_lexer": "ipython3",
   "version": "3.6.7"
  }
 },
 "nbformat": 4,
 "nbformat_minor": 2
}
