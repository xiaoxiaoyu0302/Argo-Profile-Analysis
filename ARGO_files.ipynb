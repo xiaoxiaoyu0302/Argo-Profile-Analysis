{
 "cells": [
  {
   "cell_type": "code",
   "execution_count": 1,
   "metadata": {},
   "outputs": [],
   "source": [
    "import netCDF4 as nc\n",
    "from netCDF4 import Dataset\n",
    "from datetime import datetime, timedelta\n",
    "import numpy as np\n",
    "import matplotlib.pyplot as plt\n",
    "import seawater as csr\n",
    "from matplotlib import cm"
   ]
  },
  {
   "cell_type": "code",
   "execution_count": 3,
   "metadata": {},
   "outputs": [
    {
     "data": {
      "text/plain": [
       "'D1900426_109.nc'"
      ]
     },
     "execution_count": 3,
     "metadata": {},
     "output_type": "execute_result"
    }
   ],
   "source": [
    "# read multiple files before hurrican came\n",
    "import os\n",
    "path1=\"/Network/Servers/csrp.tamu.edu/Volumes/csrp1/Users/xiaoxiaoyu/Desktop/aoml3/argo_200704/before/\"\n",
    "files_1=os.listdir(path1)\n",
    "files2=files_1[:]\n",
    "\n",
    "\n",
    "def hasNumber(inputString):\n",
    "    return any(char.isdigit() for char in inputString)   # if there is a digit in a string, and, should start with D\n",
    "for file in files_1:\n",
    "    if not hasNumber(file) or not file.startswith('D'):\n",
    "        files2.remove(file)         # remove all the items has no digit \n",
    "files_1=files2\n",
    "len(files_1)\n",
    "files_1[0]"
   ]
  },
  {
   "cell_type": "code",
   "execution_count": 6,
   "metadata": {},
   "outputs": [],
   "source": [
    "nc1=Dataset(path1+files_1[1])\n",
    "nc1.set_auto_mask(False)\n",
    "date0 = datetime.strptime((nc1.variables['REFERENCE_DATE_TIME'][:]).tostring().decode('utf-8'),\"%Y%m%d%H%M%S\")\n"
   ]
  },
  {
   "cell_type": "code",
   "execution_count": 151,
   "metadata": {},
   "outputs": [
    {
     "data": {
      "text/plain": [
       "array([ -5., -10., -15., -20., -25., -30., -35., -40., -45., -50., -55.,\n",
       "       -60., -65., -70.], dtype=float32)"
      ]
     },
     "execution_count": 151,
     "metadata": {},
     "output_type": "execute_result"
    }
   ],
   "source": [
    "date_1=[]\n",
    "lat_1=[]\n",
    "lon_1=[]\n",
    "temp_1=[]\n",
    "salt_1=[]\n",
    "press_1=[]\n",
    "file_name_1=[]\n",
    "for file in files_1:\n",
    "    if not os.path.isdir(file):\n",
    "        f=Dataset(path1+\"/\"+file)\n",
    "        f.set_auto_mask(False)\n",
    "        pres_f=f.variables['PRES'][0][1]\n",
    "        if round(pres_f)==10.0:\n",
    "#             print(file)\n",
    "            file_name_1.append(file)\n",
    "            press_1.append(pres_f)\n",
    "            date_f=date0+timedelta(days=f.variables['JULD'][:][0])       #deal with the datetime\n",
    "            date_1.append(date_f)\n",
    "            lat_f=f.variables['LATITUDE'][:]\n",
    "            lat_1.append(lat_f[0])\n",
    "            lon_f=f.variables['LONGITUDE'][:]\n",
    "            lon_1.append(lon_f[0])\n",
    "            temp_f=f.variables['TEMP'][:]\n",
    "            temp_1.append(temp_f[0])\n",
    "            salt_f=f.variables['PSAL'][:]\n",
    "            salt_1.append(salt_f[0])\n",
    "            t_1=-f.variables['PRES'][:][0]\n",
    "\n",
    "days_1=[date_f.day for date_f in date_1] \n",
    "lon_1=[int(round(lonr)) for lonr in lon_1]\n",
    "lat_1=[int(round(latr)) for latr in lat_1]\n",
    "a_1=len(lon_1)\n",
    "b_1=len(temp_1[0][:])\n",
    "\n",
    "t_1[0:14]"
   ]
  },
  {
   "cell_type": "code",
   "execution_count": 137,
   "metadata": {},
   "outputs": [
    {
     "name": "stdout",
     "output_type": "stream",
     "text": [
      "2 -34 14 11\n",
      "3 -35 14 12\n",
      "4 -29 14 12\n",
      "5 -34 18 10\n",
      "9 -29 12 11\n",
      "13 -24 17 11\n",
      "14 -27 13 10\n",
      "16 -27 17 11\n",
      "17 -25 12 12\n",
      "24 -34 13 12\n",
      "25 -38 14 12\n",
      "27 -47 17 13\n",
      "31 -45 17 14\n",
      "34 -46 17 13\n"
     ]
    }
   ],
   "source": [
    "\n",
    "for ind, lon in enumerate (lon_1):\n",
    "    if lon>-50 and lat[ind]>10:\n",
    "        print(str(ind)+\" \"+str(lon)+\" \"+str(lat[ind])+\" \"+str(days_1[ind]))"
   ]
  },
  {
   "cell_type": "code",
   "execution_count": 155,
   "metadata": {},
   "outputs": [
    {
     "name": "stdout",
     "output_type": "stream",
     "text": [
      "28 -58 9 13 D4900750_056.nc\n"
     ]
    }
   ],
   "source": [
    "for ind, lon in enumerate (lon_1):\n",
    "    if lon<-45 and lat[ind]<10:\n",
    "        print(str(ind)+\" \"+str(lon)+\" \"+str(lat[ind])+\" \"+str(days_1[ind])+\" \"+str(file_name_1[ind]))"
   ]
  },
  {
   "cell_type": "markdown",
   "metadata": {},
   "source": [
    "### input data after hurricane "
   ]
  },
  {
   "cell_type": "code",
   "execution_count": 9,
   "metadata": {},
   "outputs": [
    {
     "name": "stdout",
     "output_type": "stream",
     "text": [
      "87\n"
     ]
    },
    {
     "data": {
      "text/plain": [
       "86"
      ]
     },
     "execution_count": 9,
     "metadata": {},
     "output_type": "execute_result"
    }
   ],
   "source": [
    "import os\n",
    "path2=\"/Network/Servers/csrp.tamu.edu/Volumes/csrp1/Users/xiaoxiaoyu/Desktop/aoml3/argo_200704/after/\"\n",
    "files2=os.listdir(path2)\n",
    "files22=files2[:]\n",
    "print(len(files22))\n",
    "\n",
    "def hasNumber(inputString):\n",
    "    return any(char.isdigit() for char in inputString)   # if there is a digit in a string, and, should start with D\n",
    "for file in files2:\n",
    "    if not hasNumber(file) or not file.startswith('D'):\n",
    "        files22.remove(file)         # remove all the items has no digit \n",
    "files_2=files22\n",
    "len(files_2)\n"
   ]
  },
  {
   "cell_type": "code",
   "execution_count": 140,
   "metadata": {},
   "outputs": [
    {
     "data": {
      "text/plain": [
       "'D1900249_153.nc'"
      ]
     },
     "execution_count": 140,
     "metadata": {},
     "output_type": "execute_result"
    }
   ],
   "source": [
    "files_2[0]"
   ]
  },
  {
   "cell_type": "code",
   "execution_count": 10,
   "metadata": {},
   "outputs": [],
   "source": [
    "nc2=Dataset(path2+files_2[1])\n",
    "nc2.set_auto_mask(False)\n",
    "date0 = datetime.strptime((nc2.variables['REFERENCE_DATE_TIME'][:]).tostring().decode('utf-8'),\"%Y%m%d%H%M%S\")\n",
    "\n"
   ]
  },
  {
   "cell_type": "code",
   "execution_count": 158,
   "metadata": {},
   "outputs": [],
   "source": [
    "date_2=[]\n",
    "lat_2=[]\n",
    "lon_2=[]\n",
    "temp_2=[]\n",
    "salt_2=[]\n",
    "press_2=[]\n",
    "file_name_2=[]\n",
    "for file in files_2:\n",
    "    \n",
    "    if not os.path.isdir(file):\n",
    "        f=Dataset(path2+\"/\"+file)\n",
    "        f.set_auto_mask(False)\n",
    "        pres_f=f.variables['PRES'][0][1]\n",
    "        if round(pres_f)==10.0:\n",
    "#             print(file)\n",
    "            file_name_2.append(file)\n",
    "            press_2.append(pres_f)\n",
    "            date_f=date0+timedelta(days=f.variables['JULD'][:][0])       #deal with the datetime\n",
    "            date_2.append(date_f)\n",
    "            lat_f=f.variables['LATITUDE'][:]\n",
    "            lat_2.append(lat_f[0])\n",
    "            lon_f=f.variables['LONGITUDE'][:]\n",
    "            lon_2.append(lon_f[0])\n",
    "            temp_f=f.variables['TEMP'][:]\n",
    "            temp_2.append(temp_f[0])\n",
    "            salt_f=f.variables['PSAL'][:]\n",
    "            salt_2.append(salt_f[0])\n",
    "            t_2=-f.variables['PRES'][:][0]\n",
    "\n",
    "\n",
    "days_2=[date_f.day for date_f in date_2] \n",
    "lon_2=[int(round(lonr)) for lonr in lon_2]\n",
    "lat_2=[int(round(latr)) for latr in lat_2]\n",
    "a_2=len(lon_2)\n",
    "b_2=len(temp_2[0][:])\n"
   ]
  },
  {
   "cell_type": "code",
   "execution_count": 160,
   "metadata": {},
   "outputs": [
    {
     "name": "stdout",
     "output_type": "stream",
     "text": [
      "[-18, -23, -34, -35, -29, -46, -24, -34, -22, -8, -15, -29, -21, -25, -34, -42, -41, -29, -16, -34, -26, -24, -27, -30, -27, -25, -28, -20, -29, -41, -46, -26, -34, -43, -22, -34, -45, -55, -34, -39, -53, -47, -59, -54, -51, -58, -65, -55, -55, -45, -39, -52, -57, -46, -50]\n"
     ]
    }
   ],
   "source": [
    "print(lon_2)"
   ]
  },
  {
   "cell_type": "code",
   "execution_count": 153,
   "metadata": {},
   "outputs": [
    {
     "name": "stdout",
     "output_type": "stream",
     "text": [
      "2 -34 14 11 D1900428_109.nc\n",
      "3 -35 14 12 D1900429_109.nc\n",
      "4 -29 14 12 D1900430_109.nc\n",
      "5 -34 18 10 D1900505_086.nc\n",
      "9 -29 12 11 D1900710_046.nc\n",
      "13 -24 17 11 D1900716_042.nc\n",
      "14 -27 13 10 D1900737_032.nc\n",
      "16 -27 17 11 D1900765_014.nc\n",
      "17 -25 12 12 D1900766_014.nc\n",
      "24 -34 13 12 D4900615_079.nc\n",
      "25 -38 14 12 D4900616_079.nc\n",
      "27 -47 17 13 D4900618_079.nc\n",
      "31 -45 17 14 D4900758_047.nc\n",
      "34 -46 17 13 D4900819_014.nc\n"
     ]
    }
   ],
   "source": [
    "for ind, lon in enumerate (lon_1):\n",
    "    if lon>-50 and lat_1[ind]>10:\n",
    "        print(str(ind)+\" \"+str(lon)+\" \"+str(lat_1[ind])+\" \"+str(days_1[ind])+\" \"+str(file_name_1[ind]))"
   ]
  },
  {
   "cell_type": "code",
   "execution_count": 166,
   "metadata": {},
   "outputs": [
    {
     "name": "stdout",
     "output_type": "stream",
     "text": [
      "37 -55 17 23 D4900572_114.nc\n",
      "46 -65 17 21 D4900754_048.nc\n",
      "48 -55 16 23 D4900756_048.nc\n",
      "52 -57 17 20 D4900818_015.nc\n"
     ]
    }
   ],
   "source": [
    "for ind, lon in enumerate (lon_2):\n",
    "    if lon<-50 and 15<lat_2[ind]<20 and salt_2[ind][0]<35.8:\n",
    "        print(str(ind)+\" \"+str(lon)+\" \"+str(lat_2[ind])+\" \"+str(days_2[ind])+\" \"+str(file_name_2[ind]))\n",
    "        "
   ]
  },
  {
   "cell_type": "code",
   "execution_count": 168,
   "metadata": {},
   "outputs": [
    {
     "name": "stdout",
     "output_type": "stream",
     "text": [
      "28 -58 9 13 D4900750_056.nc\n"
     ]
    }
   ],
   "source": [
    "# river mouth\n",
    "for ind, lon in enumerate (lon_1):\n",
    "    if lon<-50 and lat_1[ind]<10 and salt_1[ind][0]<35.8:\n",
    "        print(str(ind)+\" \"+str(lon)+\" \"+str(lat_1[ind])+\" \"+str(days_1[ind])+\" \"+str(file_name_1[ind]))\n",
    "        "
   ]
  },
  {
   "cell_type": "code",
   "execution_count": 154,
   "metadata": {},
   "outputs": [
    {
     "name": "stdout",
     "output_type": "stream",
     "text": [
      "2 -34 15 21 D1900428_110.nc\n",
      "3 -35 14 22 D1900429_110.nc\n",
      "4 -29 15 22 D1900430_110.nc\n",
      "6 -24 12 19 D1900503_087.nc\n",
      "7 -34 18 20 D1900505_087.nc\n",
      "15 -42 15 16 D1900707_047.nc\n",
      "16 -41 16 16 D1900708_047.nc\n",
      "17 -29 12 21 D1900710_047.nc\n",
      "21 -24 17 21 D1900716_043.nc\n",
      "22 -27 13 20 D1900737_033.nc\n",
      "24 -27 17 21 D1900765_015.nc\n",
      "25 -25 12 22 D1900766_015.nc\n",
      "28 -29 20 16 D1900775_007.nc\n",
      "38 -34 13 22 D4900615_080.nc\n",
      "39 -39 14 22 D4900616_080.nc\n",
      "41 -47 17 23 D4900618_080.nc\n",
      "49 -45 17 24 D4900758_048.nc\n",
      "50 -39 17 15 D4900759_047.nc\n",
      "53 -46 17 23 D4900819_015.nc\n"
     ]
    }
   ],
   "source": [
    "for ind, lon in enumerate (lon_2):\n",
    "    if lon>-50 and lat_2[ind]>10:\n",
    "        print(str(ind)+\" \"+str(lon)+\" \"+str(lat_2[ind])+\" \"+str(days_2[ind])+\" \"+str(file_name_2[ind]))"
   ]
  },
  {
   "cell_type": "code",
   "execution_count": null,
   "metadata": {},
   "outputs": [],
   "source": []
  },
  {
   "cell_type": "markdown",
   "metadata": {},
   "source": [
    "### Plot "
   ]
  },
  {
   "cell_type": "code",
   "execution_count": 118,
   "metadata": {},
   "outputs": [
    {
     "data": {
      "text/plain": [
       "array([34.916, 34.974, 34.976, 34.981, 34.989, 34.998, 35.003, 35.009,\n",
       "       35.038, 35.295, 35.307, 35.316, 35.518, 35.814, 35.816, 35.753,\n",
       "       35.684, 35.631, 35.591, 35.569, 35.559, 35.546, 35.53 , 35.516,\n",
       "       35.492, 35.48 , 35.472, 35.464, 35.455, 35.441, 35.432, 35.418,\n",
       "       35.409, 35.395, 35.383, 35.372, 35.358, 35.347, 35.334, 35.319,\n",
       "       35.285, 35.235, 35.198, 35.152, 35.099, 35.052, 35.035, 34.989,\n",
       "       34.934, 34.881, 34.771, 34.734, 34.686, 34.656, 34.605, 34.586,\n",
       "       34.541, 34.518, 34.518, 34.527, 34.549, 34.581, 34.626, 34.662,\n",
       "       34.697, 34.726, 34.749, 34.776, 34.802, 34.819, 34.837, 34.848,\n",
       "       34.853, 34.857, 34.863, 34.867, 34.871], dtype=float32)"
      ]
     },
     "execution_count": 118,
     "metadata": {},
     "output_type": "execute_result"
    }
   ],
   "source": [
    "# draw the profile of two temps\n",
    "temp=temp_1\n",
    "salt=salt_1\n",
    "length=a_1\n",
    "lon=lon_1\n",
    "lat=lat_1\n",
    "t=t_1[0:20]\n",
    "salt[0]"
   ]
  },
  {
   "cell_type": "code",
   "execution_count": 119,
   "metadata": {},
   "outputs": [
    {
     "name": "stdout",
     "output_type": "stream",
     "text": [
      "36\n"
     ]
    },
    {
     "data": {
      "image/png": "[encoded data removed]",
      "text/plain": [
       "<Figure size 432x288 with 1 Axes>"
      ]
     },
     "metadata": {},
     "output_type": "display_data"
    }
   ],
   "source": [
    "data1=np.empty([length,20])\n",
    "data_noplume=[]\n",
    "data_plume=[]\n",
    "numb=0\n",
    "for i in range(length):\n",
    "    if len(temp[i])>20:\n",
    "        numb=numb+1\n",
    "        data1[i][0:20]=temp[i][0:20]\n",
    "        if (salt[i][0]>35.8):\n",
    "            data_noplume.append(data1[i])\n",
    "            plt.plot(data1[i], t,linestyle='-',color='green',label=str(lon[i])+'W '+str(lat[i])+'N ')\n",
    "        else:\n",
    "            data_plume.append(data1[i])\n",
    "            plt.plot(data1[i], t,linestyle='-',color='red',label=str(lon[i])+'W '+str(lat[i])+'N ')\n",
    "plt.xlim(12, 30)\n",
    "# plt.xlim(33, 40)\n",
    "plt.title('Temperature before Hurricane')\n",
    "# plt.title('Temperature After Hurricane')\n",
    "# plt.title('Salinity After Hurricane')\n",
    "# plt.title('Salinity Before Hurricane')\n",
    "data_noplume_mean=sum(data_noplume)/len(data_noplume)\n",
    "data_plume_mean=sum(data_plume)/len(data_plume)\n",
    "print(numb)"
   ]
  },
  {
   "cell_type": "code",
   "execution_count": 120,
   "metadata": {},
   "outputs": [
    {
     "data": {
      "text/plain": [
       "Text(0.5,1,'Temperature before Hurricane')"
      ]
     },
     "execution_count": 120,
     "metadata": {},
     "output_type": "execute_result"
    },
    {
     "data": {
      "image/png": "[encoded data removed]",
      "text/plain": [
       "<Figure size 432x288 with 1 Axes>"
      ]
     },
     "metadata": {},
     "output_type": "display_data"
    }
   ],
   "source": [
    "data_plume_mean\n",
    "plt.plot(data_plume_mean, t,linestyle='-',lw=4,color='red',label='plume_mean')\n",
    "plt.plot(data_noplume_mean, t,linestyle='-',lw=4,color='green',label='non plume_mean')\n",
    "plt.legend()\n",
    "plt.xlim(20, 28)\n",
    "# plt.xlim(33, 40)\n",
    "plt.title('Temperature before Hurricane')\n",
    "# plt.title('Temperature After Hurricane')\n",
    "\n",
    "# plt.title('Salinity After Hurricane')\n",
    "# plt.title('Salinity Before Hurricane')"
   ]
  },
  {
   "cell_type": "code",
   "execution_count": null,
   "metadata": {},
   "outputs": [],
   "source": [
    "\n",
    "\n",
    "data1=np.empty([a,20])\n",
    "data_noplume=[]\n",
    "data_plume=[]\n",
    "ix=0\n",
    "plume_ind=[]\n",
    "noplume_ind=[]\n",
    "\n",
    "for i in range(a):\n",
    "    if salt[i][1]<salt[i][0]+4:\n",
    "        ix=ix+1\n",
    "        data1[i]=salt[i][0:20]\n",
    "        if (lon[i]>-50) and (lat[i]>10):\n",
    "            data_noplume.append(data1[i])\n",
    "            plt.plot(data1[i], t,linestyle='-',color='green',label=str(lon[i])+'W '+str(lat[i])+'N ')\n",
    "            noplume_ind.append(i)\n",
    "        else:\n",
    "            data_plume.append(data1[i])\n",
    "            plt.plot(data1[i], t,linestyle='-',color='red',label=str(lon[i])+'W '+str(lat[i])+'N ')\n",
    "            plume_ind.append(i)\n",
    "plt.title('Salt ')\n",
    "# plt.plot(data2, t,linestyle='solid',label='last day')\n",
    "# plt.legend()\n",
    "salt_noplume_mean=sum(data_noplume)/len(data_noplume)\n",
    "salt_plume_mean=sum(data_plume)/len(data_plume)\n",
    "salt[30][0:20]\n",
    "# ind=30 is the plume area point \n",
    "# remove the ind=30, ind=24 points "
   ]
  },
  {
   "cell_type": "code",
   "execution_count": null,
   "metadata": {},
   "outputs": [],
   "source": [
    "noplume_ind"
   ]
  },
  {
   "cell_type": "code",
   "execution_count": null,
   "metadata": {},
   "outputs": [],
   "source": [
    "\n",
    "plt.plot(salt_plume_mean, t,linestyle='-',color='red',label='plume_mean')\n",
    "plt.plot(salt_noplume_mean, t,linestyle='-',color='green',label='on plume_mean')\n",
    "plt.legend()"
   ]
  },
  {
   "cell_type": "markdown",
   "metadata": {},
   "source": [
    "### after the hurricane "
   ]
  },
  {
   "cell_type": "code",
   "execution_count": null,
   "metadata": {},
   "outputs": [],
   "source": [
    "path2=\"/Network/Servers/csrp.tamu.edu/Volumes/csrp1/Users/xiaoxiaoyu/Desktop/aoml3/argo_200704/after/\"\n",
    "files=os.listdir(path2)\n",
    "files2=files[:]\n",
    "\n",
    "\n",
    "def hasNumber(inputString):\n",
    "    return any(char.isdigit() for char in inputString)   # if there is a digit in a string, and, should start with D\n",
    "for file in files:\n",
    "    if not hasNumber(file) or not file.startswith('D'):\n",
    "        files2.remove(file)         # remove all the items has no digit \n",
    "files_2=files2\n",
    "len(files_2)"
   ]
  },
  {
   "cell_type": "code",
   "execution_count": null,
   "metadata": {},
   "outputs": [],
   "source": []
  }
 ],
 "metadata": {
  "kernelspec": {
   "display_name": "Python 3",
   "language": "python",
   "name": "python3"
  },
  "language_info": {
   "codemirror_mode": {
    "name": "ipython",
    "version": 3
   },
   "file_extension": ".py",
   "mimetype": "text/x-python",
   "name": "python",
   "nbconvert_exporter": "python",
   "pygments_lexer": "ipython3",
   "version": "3.6.7"
  }
 },
 "nbformat": 4,
 "nbformat_minor": 2
}
